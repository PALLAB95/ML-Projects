{
 "cells": [
  {
   "cell_type": "code",
   "execution_count": 1,
   "metadata": {},
   "outputs": [
    {
     "name": "stdout",
     "output_type": "stream",
     "text": [
      " * Serving Flask app \"__main__\" (lazy loading)\n",
      " * Environment: production\n",
      "   WARNING: This is a development server. Do not use it in a production deployment.\n",
      "   Use a production WSGI server instead.\n",
      " * Debug mode: on\n"
     ]
    },
    {
     "name": "stderr",
     "output_type": "stream",
     "text": [
      " * Restarting with windowsapi reloader\n"
     ]
    },
    {
     "ename": "SystemExit",
     "evalue": "1",
     "output_type": "error",
     "traceback": [
      "An exception has occurred, use %tb to see the full traceback.\n",
      "\u001b[1;31mSystemExit\u001b[0m\u001b[1;31m:\u001b[0m 1\n"
     ]
    },
    {
     "name": "stderr",
     "output_type": "stream",
     "text": [
      "d:\\Users\\USER\\anaconda3\\lib\\site-packages\\IPython\\core\\interactiveshell.py:3426: UserWarning: To exit: use 'exit', 'quit', or Ctrl-D.\n",
      "  warn(\"To exit: use 'exit', 'quit', or Ctrl-D.\", stacklevel=1)\n"
     ]
    }
   ],
   "source": [
    "# Importing essential libraries\n",
    "from flask import Flask, render_template, request\n",
    "import pickle\n",
    "import numpy as np\n",
    "\n",
    "# Load the Random Forest CLassifier model\n",
    "filename = 'first-innings-score-lr-model.pkl'\n",
    "regressor = pickle.load(open(filename, 'rb'))\n",
    "\n",
    "app = Flask(__name__)\n",
    "\n",
    "@app.route('/')\n",
    "def home():\n",
    "\treturn render_template('index.html')\n",
    "\n",
    "@app.route('/predict', methods=['POST'])\n",
    "def predict():\n",
    "    temp_array = list()\n",
    "    \n",
    "    if request.method == 'POST':\n",
    "        \n",
    "        batting_team = request.form['batting-team']\n",
    "        if batting_team == 'Chennai Super Kings':\n",
    "            temp_array = temp_array + [1,0,0,0,0,0,0,0]\n",
    "        elif batting_team == 'Delhi Daredevils':\n",
    "            temp_array = temp_array + [0,1,0,0,0,0,0,0]\n",
    "        elif batting_team == 'Kings XI Punjab':\n",
    "            temp_array = temp_array + [0,0,1,0,0,0,0,0]\n",
    "        elif batting_team == 'Kolkata Knight Riders':\n",
    "            temp_array = temp_array + [0,0,0,1,0,0,0,0]\n",
    "        elif batting_team == 'Mumbai Indians':\n",
    "            temp_array = temp_array + [0,0,0,0,1,0,0,0]\n",
    "        elif batting_team == 'Rajasthan Royals':\n",
    "            temp_array = temp_array + [0,0,0,0,0,1,0,0]\n",
    "        elif batting_team == 'Royal Challengers Bangalore':\n",
    "            temp_array = temp_array + [0,0,0,0,0,0,1,0]\n",
    "        elif batting_team == 'Sunrisers Hyderabad':\n",
    "            temp_array = temp_array + [0,0,0,0,0,0,0,1]\n",
    "            \n",
    "            \n",
    "        bowling_team = request.form['bowling-team']\n",
    "        if bowling_team == 'Chennai Super Kings':\n",
    "            temp_array = temp_array + [1,0,0,0,0,0,0,0]\n",
    "        elif bowling_team == 'Delhi Daredevils':\n",
    "            temp_array = temp_array + [0,1,0,0,0,0,0,0]\n",
    "        elif bowling_team == 'Kings XI Punjab':\n",
    "            temp_array = temp_array + [0,0,1,0,0,0,0,0]\n",
    "        elif bowling_team == 'Kolkata Knight Riders':\n",
    "            temp_array = temp_array + [0,0,0,1,0,0,0,0]\n",
    "        elif bowling_team == 'Mumbai Indians':\n",
    "            temp_array = temp_array + [0,0,0,0,1,0,0,0]\n",
    "        elif bowling_team == 'Rajasthan Royals':\n",
    "            temp_array = temp_array + [0,0,0,0,0,1,0,0]\n",
    "        elif bowling_team == 'Royal Challengers Bangalore':\n",
    "            temp_array = temp_array + [0,0,0,0,0,0,1,0]\n",
    "        elif bowling_team == 'Sunrisers Hyderabad':\n",
    "            temp_array = temp_array + [0,0,0,0,0,0,0,1]\n",
    "            \n",
    "            \n",
    "        overs = float(request.form['overs'])\n",
    "        runs = int(request.form['runs'])\n",
    "        wickets = int(request.form['wickets'])\n",
    "        runs_in_prev_5 = int(request.form['runs_in_prev_5'])\n",
    "        wickets_in_prev_5 = int(request.form['wickets_in_prev_5'])\n",
    "        \n",
    "        temp_array = temp_array + [overs, runs, wickets, runs_in_prev_5, wickets_in_prev_5]\n",
    "        \n",
    "        data = np.array([temp_array])\n",
    "        my_prediction = int(regressor.predict(data)[0])\n",
    "              \n",
    "        return render_template('result.html', lower_limit = my_prediction-10, upper_limit = my_prediction+5)\n",
    "\n",
    "\n",
    "\n",
    "if __name__ == '__main__':\n",
    "\tapp.run(debug=True)"
   ]
  },
  {
   "cell_type": "code",
   "execution_count": null,
   "metadata": {},
   "outputs": [],
   "source": []
  }
 ],
 "metadata": {
  "kernelspec": {
   "display_name": "Python 3",
   "language": "python",
   "name": "python3"
  },
  "language_info": {
   "codemirror_mode": {
    "name": "ipython",
    "version": 3
   },
   "file_extension": ".py",
   "mimetype": "text/x-python",
   "name": "python",
   "nbconvert_exporter": "python",
   "pygments_lexer": "ipython3",
   "version": "3.8.5"
  }
 },
 "nbformat": 4,
 "nbformat_minor": 4
}
